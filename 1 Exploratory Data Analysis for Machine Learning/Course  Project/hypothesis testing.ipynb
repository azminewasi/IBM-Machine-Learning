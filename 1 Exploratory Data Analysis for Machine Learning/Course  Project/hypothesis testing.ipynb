{
 "cells": [
  {
   "cell_type": "code",
   "execution_count": 189,
   "metadata": {},
   "outputs": [],
   "source": [
    "# Hypothesis Testing"
   ]
  },
  {
   "cell_type": "markdown",
   "metadata": {},
   "source": [
    "### Dataset Used : Coursera Course Dataset\n",
    "#### URL : https://www.kaggle.com/datasets/siddharthm1698/coursera-course-dataset"
   ]
  },
  {
   "cell_type": "markdown",
   "metadata": {},
   "source": [
    "#### Featured Engineered Data : https://www.kaggle.com/code/azminetoushikwasi/coursera-eda-prep-viz-fe-with-analytics-insights/notebook"
   ]
  },
  {
   "cell_type": "markdown",
   "metadata": {},
   "source": [
    "## Data Brief\n",
    "Course dataset scrapped from Coursera website. This dataset contains mainly 6 columns and 890 course data. The detailed description:\n",
    "\n",
    "1. course_title : Contains the course title.\n",
    "2. course_organization : It tells which organization is conducting the courses.\n",
    "3. courseCertificatetype : It has details about what are the different certifications available in courses.\n",
    "4. course_rating : It has the ratings associated with each course.\n",
    "5. course_difficulty : It tells about how difficult or what is the level of the course.\n",
    "6. coursestudentsenrolled : It has the number of students that are enrolled in the course."
   ]
  },
  {
   "cell_type": "code",
   "execution_count": 190,
   "metadata": {},
   "outputs": [],
   "source": [
    "## Data import and Coorelation Matrix\n",
    "import pandas as pd\n",
    "import numpy as np\n",
    "import matplotlib.pyplot as plt\n",
    "import scipy.stats as sps\n",
    "\n",
    "import os\n",
    "for dirname, _, filenames in os.walk('/kaggle/input'):\n",
    "    for filename in filenames:\n",
    "        print(os.path.join(dirname, filename))\n",
    "        \n",
    "df=pd.read_csv(\"coursera_data_FEd.csv\")\n",
    "df=df.drop(\"Unnamed: 0\",axis=1)\n"
   ]
  },
  {
   "cell_type": "markdown",
   "metadata": {},
   "source": [
    "#### Sampling example"
   ]
  },
  {
   "cell_type": "code",
   "execution_count": 191,
   "metadata": {},
   "outputs": [
    {
     "data": {
      "text/html": [
       "<div>\n",
       "<style scoped>\n",
       "    .dataframe tbody tr th:only-of-type {\n",
       "        vertical-align: middle;\n",
       "    }\n",
       "\n",
       "    .dataframe tbody tr th {\n",
       "        vertical-align: top;\n",
       "    }\n",
       "\n",
       "    .dataframe thead th {\n",
       "        text-align: right;\n",
       "    }\n",
       "</style>\n",
       "<table border=\"1\" class=\"dataframe\">\n",
       "  <thead>\n",
       "    <tr style=\"text-align: right;\">\n",
       "      <th></th>\n",
       "      <th>course_rating</th>\n",
       "      <th>course_students_enrolled_modified</th>\n",
       "      <th>course_difficulty_modified</th>\n",
       "    </tr>\n",
       "  </thead>\n",
       "  <tbody>\n",
       "    <tr>\n",
       "      <th>count</th>\n",
       "      <td>40.000000</td>\n",
       "      <td>40.000000</td>\n",
       "      <td>40.000000</td>\n",
       "    </tr>\n",
       "    <tr>\n",
       "      <th>mean</th>\n",
       "      <td>4.675000</td>\n",
       "      <td>7.162798</td>\n",
       "      <td>0.325000</td>\n",
       "    </tr>\n",
       "    <tr>\n",
       "      <th>std</th>\n",
       "      <td>0.151488</td>\n",
       "      <td>8.651666</td>\n",
       "      <td>0.460629</td>\n",
       "    </tr>\n",
       "    <tr>\n",
       "      <th>min</th>\n",
       "      <td>4.200000</td>\n",
       "      <td>1.000000</td>\n",
       "      <td>0.000000</td>\n",
       "    </tr>\n",
       "    <tr>\n",
       "      <th>25%</th>\n",
       "      <td>4.600000</td>\n",
       "      <td>2.000000</td>\n",
       "      <td>0.000000</td>\n",
       "    </tr>\n",
       "    <tr>\n",
       "      <th>50%</th>\n",
       "      <td>4.700000</td>\n",
       "      <td>5.000000</td>\n",
       "      <td>0.000000</td>\n",
       "    </tr>\n",
       "    <tr>\n",
       "      <th>75%</th>\n",
       "      <td>4.800000</td>\n",
       "      <td>8.000000</td>\n",
       "      <td>0.500000</td>\n",
       "    </tr>\n",
       "    <tr>\n",
       "      <th>max</th>\n",
       "      <td>4.900000</td>\n",
       "      <td>38.000000</td>\n",
       "      <td>2.000000</td>\n",
       "    </tr>\n",
       "  </tbody>\n",
       "</table>\n",
       "</div>"
      ],
      "text/plain": [
       "       course_rating  course_students_enrolled_modified  \\\n",
       "count      40.000000                          40.000000   \n",
       "mean        4.675000                           7.162798   \n",
       "std         0.151488                           8.651666   \n",
       "min         4.200000                           1.000000   \n",
       "25%         4.600000                           2.000000   \n",
       "50%         4.700000                           5.000000   \n",
       "75%         4.800000                           8.000000   \n",
       "max         4.900000                          38.000000   \n",
       "\n",
       "       course_difficulty_modified  \n",
       "count                   40.000000  \n",
       "mean                     0.325000  \n",
       "std                      0.460629  \n",
       "min                      0.000000  \n",
       "25%                      0.000000  \n",
       "50%                      0.000000  \n",
       "75%                      0.500000  \n",
       "max                      2.000000  "
      ]
     },
     "execution_count": 191,
     "metadata": {},
     "output_type": "execute_result"
    }
   ],
   "source": [
    "sample=df.sample(40,random_state=1)\n",
    "sample.describe()"
   ]
  },
  {
   "cell_type": "markdown",
   "metadata": {},
   "source": [
    "# Hypothesis Formulation"
   ]
  },
  {
   "cell_type": "markdown",
   "metadata": {},
   "source": [
    "### Hypothesis 01:\n",
    "Null hypothesis: Equal or less than 50% enrolled courses are beginner level courses.\n",
    "- Test Method: z statstic\n",
    "- Significance Level: 8%"
   ]
  },
  {
   "cell_type": "markdown",
   "metadata": {},
   "source": [
    "### Hypothesis 02:\n",
    "Null hypothesis: Coursera has a average course rating of more than 4.5."
   ]
  },
  {
   "cell_type": "markdown",
   "metadata": {},
   "source": [
    "### Hypothesis 03:\n",
    "Null hypothesis: University courses has more average rating by 0.2 from non-university courses."
   ]
  },
  {
   "cell_type": "markdown",
   "metadata": {},
   "source": [
    "# Conducting a formal significance test for one of the hypotheses and discuss the results \n",
    "### Testing for Hypothesis 01:"
   ]
  },
  {
   "cell_type": "markdown",
   "metadata": {},
   "source": [
    "#### Necessary Data\n",
    "- H₀: π ≤ 0.50\n",
    "- H₁: π > 0.50\n",
    "- α = 0.08\n",
    " \n",
    "- Test Method: z statstic; z = (p-π)/σₚ, where σₚ=sqrt(π(1-π)/n)"
   ]
  },
  {
   "cell_type": "code",
   "execution_count": 192,
   "metadata": {},
   "outputs": [],
   "source": [
    "pi=0.5\n",
    "sigma=0.08"
   ]
  },
  {
   "cell_type": "markdown",
   "metadata": {},
   "source": [
    "#### Calculating P"
   ]
  },
  {
   "cell_type": "code",
   "execution_count": 193,
   "metadata": {},
   "outputs": [
    {
     "data": {
      "text/plain": [
       "891"
      ]
     },
     "execution_count": 193,
     "metadata": {},
     "output_type": "execute_result"
    }
   ],
   "source": [
    "sample_size=len(df)\n",
    "sample_size"
   ]
  },
  {
   "cell_type": "markdown",
   "metadata": {},
   "source": [
    "so, total sample size = 891"
   ]
  },
  {
   "cell_type": "code",
   "execution_count": 194,
   "metadata": {},
   "outputs": [
    {
     "data": {
      "text/plain": [
       "487"
      ]
     },
     "execution_count": 194,
     "metadata": {},
     "output_type": "execute_result"
    }
   ],
   "source": [
    "# P, the value of sample statistic\n",
    "positives= df[df['course_difficulty_modified']==0]['course_rating'].count()\n",
    "positives"
   ]
  },
  {
   "cell_type": "markdown",
   "metadata": {},
   "source": [
    "number of courses with rating more than 4.5 = 745"
   ]
  },
  {
   "cell_type": "code",
   "execution_count": 195,
   "metadata": {},
   "outputs": [
    {
     "data": {
      "text/plain": [
       "0.5465768799102132"
      ]
     },
     "execution_count": 195,
     "metadata": {},
     "output_type": "execute_result"
    }
   ],
   "source": [
    "P=positives/sample_size\n",
    "P"
   ]
  },
  {
   "cell_type": "markdown",
   "metadata": {},
   "source": [
    "Now, we will determine The value of σₚ, where σₚ=sqrt(π(1-π)/n)"
   ]
  },
  {
   "cell_type": "code",
   "execution_count": 196,
   "metadata": {},
   "outputs": [
    {
     "data": {
      "text/plain": [
       "0.016750630254320203"
      ]
     },
     "execution_count": 196,
     "metadata": {},
     "output_type": "execute_result"
    }
   ],
   "source": [
    "import math \n",
    "\n",
    "#defining meu_p function\n",
    "def meu_p (pi,sample_size):\n",
    "    temp=pi*(1-pi)/sample_size\n",
    "    return math.sqrt(temp)\n",
    "meu_p (pi,sample_size)"
   ]
  },
  {
   "cell_type": "code",
   "execution_count": 197,
   "metadata": {},
   "outputs": [],
   "source": [
    "#defining z_statistic function\n",
    "\n",
    "def z_stat(pi,p,sample_size):\n",
    "    return (p-pi)/meu_p(pi,sample_size)"
   ]
  },
  {
   "cell_type": "code",
   "execution_count": 198,
   "metadata": {},
   "outputs": [
    {
     "data": {
      "text/plain": [
       "2.7806046222171505"
      ]
     },
     "execution_count": 198,
     "metadata": {},
     "output_type": "execute_result"
    }
   ],
   "source": [
    "## Applying\n",
    "z_stat(pi,P,sample_size)"
   ]
  },
  {
   "cell_type": "code",
   "execution_count": 201,
   "metadata": {},
   "outputs": [
    {
     "data": {
      "text/html": [
       "<img src=\"http://www.z-table.com/uploads/2/1/7/9/21795380/8573955.png?759\"/>"
      ],
      "text/plain": [
       "<IPython.core.display.Image object>"
      ]
     },
     "execution_count": 201,
     "metadata": {},
     "output_type": "execute_result"
    }
   ],
   "source": [
    "from IPython.display import Image\n",
    "from IPython.core.display import HTML \n",
    "Image(url= \"http://www.z-table.com/uploads/2/1/7/9/21795380/8573955.png?759\")"
   ]
  },
  {
   "cell_type": "markdown",
   "metadata": {},
   "source": [
    " Probability is approximately 0.998; But we wanted to calculate the probability to the right of z (because we are interested in obtaining the probability value that falls in the rejection region or critical region), i.e."
   ]
  },
  {
   "cell_type": "code",
   "execution_count": 202,
   "metadata": {},
   "outputs": [
    {
     "data": {
      "text/plain": [
       "0.0020000000000000018"
      ]
     },
     "execution_count": 202,
     "metadata": {},
     "output_type": "execute_result"
    }
   ],
   "source": [
    "1-0.998"
   ]
  },
  {
   "cell_type": "markdown",
   "metadata": {},
   "source": [
    "Aplha is 0.05\n",
    "So, the null hypothesis is rejected.\n",
    "## More than 50% students get enrolled in Beginner level courses.\n"
   ]
  },
  {
   "cell_type": "markdown",
   "metadata": {},
   "source": [
    "# Suggestions for next steps in analyzing this data\n",
    "\n",
    "- Testing other hypotheses.\n",
    "- Analyze university based data.\n",
    "- Try to group the courses to related subjects, based on subject name - keywords and see if any subject/field is performing better than others."
   ]
  },
  {
   "cell_type": "markdown",
   "metadata": {},
   "source": [
    "# The quality of this data set and a request for additional data if needed\n",
    "- Data quality is good, but data is not well distributed in various categories.\n",
    "- The coirse-rating section is highly one-sided.\n",
    "- Student enrollment number could be given in number, instead of string.\n",
    "- Course length and these type info would have helped more.\n",
    "\n",
    "### Data Request: \n",
    "- Require more data on some categories (advanced and so) to analyse far more better.\n",
    "- More data means more accurate result. For a large platfrom like Cousera, we need more data and meta-data; like date-time of course launch, date of records and so on."
   ]
  }
 ],
 "metadata": {
  "interpreter": {
   "hash": "d5dc38e623d9ac28e09ab5ab022dbf19a729db59a703afa7fea3a6695d27428b"
  },
  "kernelspec": {
   "display_name": "Python 3.9.7 ('base')",
   "language": "python",
   "name": "python3"
  },
  "language_info": {
   "codemirror_mode": {
    "name": "ipython",
    "version": 3
   },
   "file_extension": ".py",
   "mimetype": "text/x-python",
   "name": "python",
   "nbconvert_exporter": "python",
   "pygments_lexer": "ipython3",
   "version": "3.9.7"
  },
  "orig_nbformat": 4
 },
 "nbformat": 4,
 "nbformat_minor": 2
}
